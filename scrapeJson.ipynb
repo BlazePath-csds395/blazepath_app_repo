{
 "cells": [
  {
   "cell_type": "code",
   "execution_count": null,
   "metadata": {},
   "outputs": [],
   "source": [
    "# THIS CODE LOADS THE WRONG STUFF\n",
    "# \n",
    "# import urllib.request, json\n",
    "# with urllib.request.urlopen(\"https://api.weather.gov/zones?type=fire\") as url:\n",
    "#     data = json.load(url)\n",
    "# fires = data['features']\n",
    "\n",
    "# count = 1\n",
    "# features = []\n",
    "# for fire in fires:\n",
    "#     count = count + 1\n",
    "\n",
    "#     if count >=100:\n",
    "#         break\n",
    "\n",
    "#     id = fire['id']\n",
    "#     with urllib.request.urlopen(id) as url:\n",
    "#         info = json.load(url)\n",
    "#     features.append(info)\n",
    "\n",
    "\n",
    "# jsonData = {\n",
    "#     \"type\": \"FeatureCollection\",\n",
    "#     \"features\":features\n",
    "# }\n",
    "# with open('./blazepath_app/src/components/data.json', 'w') as fp:\n",
    "#     json.dump(jsonData, fp)\n",
    "    "
   ]
  },
  {
   "cell_type": "code",
   "execution_count": 4,
   "metadata": {},
   "outputs": [],
   "source": [
    "\n",
    "link = 'https://services3.arcgis.com/T4QMspbfLg3qTGWY/arcgis/rest/services/WFIGS_Interagency_Perimeters_Current/FeatureServer/0/query?outFields=*&where=1%3D1&f=geojson'\n",
    "import urllib.request, json\n",
    "with urllib.request.urlopen(link) as url:\n",
    "    data = json.load(url)\n",
    "with open('./frontend/src/data/firePerims.json', 'w') as fp:\n",
    "    json.dump(data, fp)"
   ]
  },
  {
   "cell_type": "code",
   "execution_count": 2,
   "metadata": {},
   "outputs": [],
   "source": [
    "link = 'https://services3.arcgis.com/T4QMspbfLg3qTGWY/arcgis/rest/services/WFIGS_Interagency_Perimeters_YearToDate/FeatureServer/0/query?outFields=*&where=1%3D1&f=geojson'\n",
    "import urllib.request, json\n",
    "with urllib.request.urlopen(link) as url:\n",
    "    data = json.load(url)\n",
    "with open('./frontend/src/data/allFirePerims.json', 'w') as fp:\n",
    "    json.dump(data, fp)"
   ]
  }
 ],
 "metadata": {
  "kernelspec": {
   "display_name": "Python 3",
   "language": "python",
   "name": "python3"
  },
  "language_info": {
   "codemirror_mode": {
    "name": "ipython",
    "version": 3
   },
   "file_extension": ".py",
   "mimetype": "text/x-python",
   "name": "python",
   "nbconvert_exporter": "python",
   "pygments_lexer": "ipython3",
   "version": "3.10.11"
  }
 },
 "nbformat": 4,
 "nbformat_minor": 2
}
